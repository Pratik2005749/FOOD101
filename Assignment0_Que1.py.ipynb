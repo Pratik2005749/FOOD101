{
 "cells": [
  {
   "cell_type": "code",
   "execution_count": null,
   "id": "468b688b-653b-4841-aaf5-d6f1aa341377",
   "metadata": {},
   "outputs": [],
   "source": [
    "def slope_of_cubic(coefficient_tuple,x):\n",
    "    slope= (3*a*x*x)+(2*b*x)+c\n",
    "    return slope\n",
    "\n",
    "a=float(input(\"enter the coefficient of cubic term:\"))\n",
    "b=float(input(\"enter the coefficient of quadratic term:\"))\n",
    "c=float(input(\"enter the coefficient of linear term:\"))\n",
    "d=float(input(\"enter the constant term:\"))\n",
    "x=float(input(\"enter the value of x where slope has to be calculated:\"))\n",
    "\n",
    "coefficient_tuple=(a,b,c,d)\n",
    "print(slope_of_cubic(coefficient_tuple,x))"
   ]
  },
  {
   "cell_type": "code",
   "execution_count": null,
   "id": "58cde2cf-9074-40f1-b83b-0f7588a1ee59",
   "metadata": {},
   "outputs": [],
   "source": []
  }
 ],
 "metadata": {
  "kernelspec": {
   "display_name": "Python(food101)",
   "language": "python",
   "name": "food101"
  },
  "language_info": {
   "codemirror_mode": {
    "name": "ipython",
    "version": 3
   },
   "file_extension": ".py",
   "mimetype": "text/x-python",
   "name": "python",
   "nbconvert_exporter": "python",
   "pygments_lexer": "ipython3",
   "version": "3.13.0"
  }
 },
 "nbformat": 4,
 "nbformat_minor": 5
}
