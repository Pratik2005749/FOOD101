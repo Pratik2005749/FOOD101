{
 "cells": [
  {
   "cell_type": "code",
   "execution_count": 11,
   "id": "0b7a0bb9-d760-4ed1-b055-b5e13cfd1a85",
   "metadata": {},
   "outputs": [
    {
     "name": "stdin",
     "output_type": "stream",
     "text": [
      "enter a 2D array: [[1,2],[3,4]]\n",
      "enter another 2D array: [[1,2],[3,4]]\n",
      "enter the operation to be performed(dot/matrix): matrix\n"
     ]
    },
    {
     "name": "stdout",
     "output_type": "stream",
     "text": [
      "dot operation not valid\n",
      "[[ 7. 10.]\n",
      " [15. 22.]]\n"
     ]
    }
   ],
   "source": [
    "import numpy as np\n",
    "import ast\n",
    "\n",
    "def matrix_operation(array1,array2,operation):\n",
    "    if(operation==\"dot\"):\n",
    "        rows_array1,cols_array1=len(array1),len(array1[0])\n",
    "        rows_array2,cols_array2=len(array2),len(array2[0])\n",
    "        if((rows_array1==rows_array2) and (cols_array1==cols_array2)):\n",
    "            res=np.zeros((rows_array1,cols_array1))\n",
    "            for i in range(rows_array1):\n",
    "                for j in range(cols_array1):\n",
    "                    res[i,j]=array1[i,j]*array2[i,j]\n",
    "            print(res)\n",
    "    else:\n",
    "        print(\"dot operation not valid\")\n",
    "    if(operation==\"matrix\"):\n",
    "        rows_array1,cols_array1=len(array1),len(array1[0])\n",
    "        rows_array2,cols_array2=len(array2),len(array2[0])\n",
    "        if(cols_array1==rows_array2):\n",
    "            res=np.zeros((rows_array1,cols_array2))\n",
    "            for i in range(rows_array1):\n",
    "                for j in range(cols_array2):\n",
    "                    for k in range(cols_array1):\n",
    "                        res[i,j]+=array1[i,k]*array2[k,j]\n",
    "            print(res)\n",
    "    else:\n",
    "        print(\"matrix multiplication not possible\")\n",
    "        \n",
    "\n",
    "ar1=input(\"enter a 2D array:\")\n",
    "ar2=input(\"enter another 2D array:\")\n",
    "operation=input(\"enter the operation to be performed(dot/matrix):\")\n",
    "\n",
    "array1=np.array(ast.literal_eval(ar1))\n",
    "array2=np.array(ast.literal_eval(ar2))\n",
    "\n",
    "if(operation==\"dot\"):\n",
    "    matrix_operation(array1,array2,operation)\n",
    "if(operation==\"matrix\"):\n",
    "    matrix_operation(array1,array2,operation)\n",
    "else:\n",
    "    print(\"not a valid operation\")"
   ]
  },
  {
   "cell_type": "code",
   "execution_count": null,
   "id": "a6f73ee2-fde0-4f36-a8fa-8d05a8cc27a8",
   "metadata": {},
   "outputs": [],
   "source": []
  }
 ],
 "metadata": {
  "kernelspec": {
   "display_name": "Python(food101)",
   "language": "python",
   "name": "food101"
  },
  "language_info": {
   "codemirror_mode": {
    "name": "ipython",
    "version": 3
   },
   "file_extension": ".py",
   "mimetype": "text/x-python",
   "name": "python",
   "nbconvert_exporter": "python",
   "pygments_lexer": "ipython3",
   "version": "3.13.0"
  }
 },
 "nbformat": 4,
 "nbformat_minor": 5
}
